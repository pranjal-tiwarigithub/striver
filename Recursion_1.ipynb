{
  "nbformat": 4,
  "nbformat_minor": 0,
  "metadata": {
    "colab": {
      "provenance": [],
      "authorship_tag": "ABX9TyPd6/DrZLB541SiFhbvPWmF",
      "include_colab_link": true
    },
    "kernelspec": {
      "name": "python3",
      "display_name": "Python 3"
    },
    "language_info": {
      "name": "python"
    }
  },
  "cells": [
    {
      "cell_type": "markdown",
      "metadata": {
        "id": "view-in-github",
        "colab_type": "text"
      },
      "source": [
        "<a href=\"https://colab.research.google.com/github/pranjal-tiwarigithub/striver/blob/main/Recursion_1.ipynb\" target=\"_parent\"><img src=\"https://colab.research.google.com/assets/colab-badge.svg\" alt=\"Open In Colab\"/></a>"
      ]
    },
    {
      "cell_type": "code",
      "execution_count": 5,
      "metadata": {
        "id": "tNALSU-FQNtt"
      },
      "outputs": [],
      "source": [
        "def print_val(n):\n",
        "\n",
        "  if n == 0:\n",
        "    print(n)\n",
        "    return \n",
        "   \n",
        "  print(n)\n",
        "  print_val(n-1)"
      ]
    },
    {
      "cell_type": "code",
      "source": [
        "print_val(3)"
      ],
      "metadata": {
        "colab": {
          "base_uri": "https://localhost:8080/"
        },
        "id": "YLgPB-oeQ3GO",
        "outputId": "efe999ef-1c05-41a5-f04f-c093733432b4"
      },
      "execution_count": 6,
      "outputs": [
        {
          "output_type": "stream",
          "name": "stdout",
          "text": [
            "3\n",
            "2\n",
            "1\n",
            "0\n"
          ]
        }
      ]
    },
    {
      "cell_type": "code",
      "source": [
        "def print_val(n):\n",
        "\n",
        "  if n == 0:\n",
        "    return \n",
        "\n",
        "  print_val(n-1)\n",
        "\n",
        "  print(n)\n",
        "\n"
      ],
      "metadata": {
        "id": "hgT_Amz4SQW5"
      },
      "execution_count": 7,
      "outputs": []
    },
    {
      "cell_type": "code",
      "source": [
        "print_val(3)"
      ],
      "metadata": {
        "colab": {
          "base_uri": "https://localhost:8080/"
        },
        "id": "Gx6aE_2CS3ZQ",
        "outputId": "6f7df661-6c0c-48fc-c5d3-b5018f56baee"
      },
      "execution_count": 8,
      "outputs": [
        {
          "output_type": "stream",
          "name": "stdout",
          "text": [
            "1\n",
            "2\n",
            "3\n"
          ]
        }
      ]
    },
    {
      "cell_type": "code",
      "source": [],
      "metadata": {
        "id": "fhrNNVzwS71P"
      },
      "execution_count": null,
      "outputs": []
    }
  ]
}