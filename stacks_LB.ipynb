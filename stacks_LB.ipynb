{
  "nbformat": 4,
  "nbformat_minor": 0,
  "metadata": {
    "colab": {
      "provenance": [],
      "authorship_tag": "ABX9TyNlRysbZ+/WBIqEyuMoX0AV",
      "include_colab_link": true
    },
    "kernelspec": {
      "name": "python3",
      "display_name": "Python 3"
    },
    "language_info": {
      "name": "python"
    }
  },
  "cells": [
    {
      "cell_type": "markdown",
      "metadata": {
        "id": "view-in-github",
        "colab_type": "text"
      },
      "source": [
        "<a href=\"https://colab.research.google.com/github/pranjal-tiwarigithub/striver/blob/main/stacks_LB.ipynb\" target=\"_parent\"><img src=\"https://colab.research.google.com/assets/colab-badge.svg\" alt=\"Open In Colab\"/></a>"
      ]
    },
    {
      "cell_type": "code",
      "execution_count": 19,
      "metadata": {
        "id": "X-6us2CHTUqQ",
        "colab": {
          "base_uri": "https://localhost:8080/"
        },
        "outputId": "b72939dc-bea2-425c-c3e1-aebe2c5a11d5"
      },
      "outputs": [
        {
          "output_type": "execute_result",
          "data": {
            "text/plain": [
              "2"
            ]
          },
          "metadata": {},
          "execution_count": 19
        }
      ],
      "source": [
        "4//2"
      ]
    },
    {
      "cell_type": "markdown",
      "source": [
        "# Remove middle of stack "
      ],
      "metadata": {
        "id": "cWHILuSPIcvl"
      }
    },
    {
      "cell_type": "code",
      "source": [
        "def remove_middle(arr,count,size):\n",
        "  print(str(count) + str(arr))\n",
        "  if count == size//2:  ### N=5 remove 2th , N=4 remove 2th\n",
        "    arr.pop(0)\n",
        "    return \n",
        "\n",
        "  last_element = arr.pop(0)\n",
        "  remove_middle(arr,count + 1 , size)\n",
        "  ## on retrun \n",
        "  arr.insert(0,last_element)"
      ],
      "metadata": {
        "id": "enxbOqBoIbmk"
      },
      "execution_count": 31,
      "outputs": []
    },
    {
      "cell_type": "code",
      "source": [
        "myarr = [1,2,3,4]\n",
        "remove_middle(myarr,0,len(myarr))\n",
        "print(myarr)"
      ],
      "metadata": {
        "colab": {
          "base_uri": "https://localhost:8080/"
        },
        "id": "nBzju5QyJaB3",
        "outputId": "25e2274d-a575-498d-b857-867eba49aad1"
      },
      "execution_count": 32,
      "outputs": [
        {
          "output_type": "stream",
          "name": "stdout",
          "text": [
            "0[1, 2, 3, 4]\n",
            "1[2, 3, 4]\n",
            "2[3, 4]\n",
            "[1, 2, 4]\n"
          ]
        }
      ]
    }
  ]
}