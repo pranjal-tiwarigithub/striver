{
  "nbformat": 4,
  "nbformat_minor": 0,
  "metadata": {
    "colab": {
      "provenance": [],
      "authorship_tag": "ABX9TyM/epSIuBgRjAx8jZ8Fj70o",
      "include_colab_link": true
    },
    "kernelspec": {
      "name": "python3",
      "display_name": "Python 3"
    },
    "language_info": {
      "name": "python"
    }
  },
  "cells": [
    {
      "cell_type": "markdown",
      "metadata": {
        "id": "view-in-github",
        "colab_type": "text"
      },
      "source": [
        "<a href=\"https://colab.research.google.com/github/pranjal-tiwarigithub/striver/blob/main/stacks_LB.ipynb\" target=\"_parent\"><img src=\"https://colab.research.google.com/assets/colab-badge.svg\" alt=\"Open In Colab\"/></a>"
      ]
    },
    {
      "cell_type": "code",
      "execution_count": null,
      "metadata": {
        "id": "X-6us2CHTUqQ",
        "colab": {
          "base_uri": "https://localhost:8080/"
        },
        "outputId": "b72939dc-bea2-425c-c3e1-aebe2c5a11d5"
      },
      "outputs": [
        {
          "output_type": "execute_result",
          "data": {
            "text/plain": [
              "2"
            ]
          },
          "metadata": {},
          "execution_count": 19
        }
      ],
      "source": [
        "4//2"
      ]
    },
    {
      "cell_type": "markdown",
      "source": [
        "# Remove middle of stack "
      ],
      "metadata": {
        "id": "cWHILuSPIcvl"
      }
    },
    {
      "cell_type": "code",
      "source": [
        "def remove_middle(arr,count,size):\n",
        "  print(str(count) + str(arr))\n",
        "  if count == size//2:  ### N=5 remove 2th , N=4 remove 2th\n",
        "    arr.pop(0)\n",
        "    return \n",
        "\n",
        "  last_element = arr.pop(0)\n",
        "  remove_middle(arr,count + 1 , size)\n",
        "  ## on retrun \n",
        "  arr.insert(0,last_element)"
      ],
      "metadata": {
        "id": "enxbOqBoIbmk"
      },
      "execution_count": null,
      "outputs": []
    },
    {
      "cell_type": "code",
      "source": [
        "myarr = [1,2,3,4]\n",
        "remove_middle(myarr,0,len(myarr))\n",
        "print(myarr)"
      ],
      "metadata": {
        "colab": {
          "base_uri": "https://localhost:8080/"
        },
        "id": "nBzju5QyJaB3",
        "outputId": "25e2274d-a575-498d-b857-867eba49aad1"
      },
      "execution_count": null,
      "outputs": [
        {
          "output_type": "stream",
          "name": "stdout",
          "text": [
            "0[1, 2, 3, 4]\n",
            "1[2, 3, 4]\n",
            "2[3, 4]\n",
            "[1, 2, 4]\n"
          ]
        }
      ]
    },
    {
      "cell_type": "markdown",
      "source": [
        "### insert at bottom"
      ],
      "metadata": {
        "id": "ULjcOTwByn00"
      }
    },
    {
      "cell_type": "code",
      "source": [
        "Less than before an element \n",
        "\n",
        "striver "
      ],
      "metadata": {
        "id": "-bbad16Fyl43",
        "colab": {
          "base_uri": "https://localhost:8080/",
          "height": 130
        },
        "outputId": "c743ac75-7c1e-46ff-86c7-88340427d054"
      },
      "execution_count": 1,
      "outputs": [
        {
          "output_type": "error",
          "ename": "SyntaxError",
          "evalue": "ignored",
          "traceback": [
            "\u001b[0;36m  File \u001b[0;32m\"<ipython-input-1-fa7608324648>\"\u001b[0;36m, line \u001b[0;32m1\u001b[0m\n\u001b[0;31m    Less than before an element\u001b[0m\n\u001b[0m         ^\u001b[0m\n\u001b[0;31mSyntaxError\u001b[0m\u001b[0;31m:\u001b[0m invalid syntax\n"
          ]
        }
      ]
    },
    {
      "cell_type": "code",
      "source": [
        "from os import *\n",
        "from sys import *\n",
        "from collections import *\n",
        "from math import *\n",
        "\n",
        "def findSpans(price):\n",
        "\n",
        "    stack = []\n",
        "    n = len(price)\n",
        "    answer = [1] * n \n",
        "\n",
        "    for i in range(0 , n):\n",
        "\n",
        "        count = 1 \n",
        "\n",
        "        for j in range(len(stack) -1, -1 ,-1):\n",
        "\n",
        "            if price[i] < stack[j]:\n",
        "                break \n",
        "            \n",
        "            count =  count + 1 \n",
        "    \n",
        "        ## now insert such that smallest number is at top of stack \n",
        "        answer[i] = count\n",
        "        sort_stack(price[i] , stack , len(stack))\n",
        "        print(\"stack:\" + str(stack))\n",
        "    \n",
        "    return answer\n",
        "        \n",
        "\n",
        "def sort_stack(val , stack , length):\n",
        "\n",
        "    if length == 0 or val <= stack[-1]:\n",
        "        stack.append(val)\n",
        "        return\n",
        "    \n",
        "    last_element =  stack.pop()\n",
        "    sort_stack(val , stack , len(stack))\n",
        "    stack.append(last_element)\n",
        "\n",
        "\n",
        "\n",
        "\n",
        "\n",
        "\n"
      ],
      "metadata": {
        "id": "uv8-nDKNoDF6"
      },
      "execution_count": null,
      "outputs": []
    }
  ]
}