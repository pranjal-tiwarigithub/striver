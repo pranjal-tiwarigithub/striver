{
  "nbformat": 4,
  "nbformat_minor": 0,
  "metadata": {
    "colab": {
      "provenance": [],
      "authorship_tag": "ABX9TyMijFoHnuZLbOjm6aPsX4ts",
      "include_colab_link": true
    },
    "kernelspec": {
      "name": "python3",
      "display_name": "Python 3"
    },
    "language_info": {
      "name": "python"
    }
  },
  "cells": [
    {
      "cell_type": "markdown",
      "metadata": {
        "id": "view-in-github",
        "colab_type": "text"
      },
      "source": [
        "<a href=\"https://colab.research.google.com/github/pranjal-tiwarigithub/striver/blob/main/Binary_Tree.ipynb\" target=\"_parent\"><img src=\"https://colab.research.google.com/assets/colab-badge.svg\" alt=\"Open In Colab\"/></a>"
      ]
    },
    {
      "cell_type": "code",
      "execution_count": 1,
      "metadata": {
        "id": "ld4xOrNemdAv"
      },
      "outputs": [],
      "source": [
        " class TreeNode:\n",
        "\n",
        "  def __init__(self , data):\n",
        "    self.data = data\n",
        "    self.left = None\n",
        "    self.right = None\n"
      ]
    },
    {
      "cell_type": "code",
      "source": [
        "def create(root):\n",
        "\n",
        "  data = int(input(\"Enter Your data : -1 to end tree\"))\n",
        "\n",
        "  if data == -1:\n",
        "    return None\n",
        "\n",
        "  ## make a Node\n",
        "  root = TreeNode(data)\n",
        "\n",
        "  print(f\"enter data for left node of  {data}\")\n",
        "  root.left = create(root.left)\n",
        "  print(f\"enter data for right node of  {data}\")\n",
        "  root.right = create(root.right)\n",
        "  return root\n",
        "\n",
        "def level_order_transversal(root):\n",
        "\n",
        "  queue = []\n",
        "  queue.append(root)\n",
        "\n",
        "  while (len(queue) != 0 ):\n",
        "    temp = queue.pop(0)\n",
        "    print (temp.data)\n",
        "\n",
        "    if (temp.left != None):\n",
        "      queue.append(temp.left)\n",
        "\n",
        "    if (temp.right != None):\n",
        "      queue.append(temp.right)\n",
        "\n"
      ],
      "metadata": {
        "id": "qK9oKvdqToav"
      },
      "execution_count": 2,
      "outputs": []
    },
    {
      "cell_type": "code",
      "source": [
        "root = None\n",
        "root = create(root)"
      ],
      "metadata": {
        "colab": {
          "base_uri": "https://localhost:8080/"
        },
        "id": "my9ZwxsIV9PF",
        "outputId": "d94dd1d0-5fae-438b-c7d0-d4eb1a5d6e51"
      },
      "execution_count": 3,
      "outputs": [
        {
          "name": "stdout",
          "output_type": "stream",
          "text": [
            "Enter Your data : -1 to end tree1\n",
            "enter data for left node of  1\n",
            "Enter Your data : -1 to end tree2\n",
            "enter data for left node of  2\n",
            "Enter Your data : -1 to end tree-1\n",
            "enter data for right node of  2\n",
            "Enter Your data : -1 to end tree-1\n",
            "enter data for right node of  1\n",
            "Enter Your data : -1 to end tree3\n",
            "enter data for left node of  3\n",
            "Enter Your data : -1 to end tree-1\n",
            "enter data for right node of  3\n",
            "Enter Your data : -1 to end tree-1\n"
          ]
        }
      ]
    },
    {
      "cell_type": "code",
      "source": [
        "level_order_transversal(root)"
      ],
      "metadata": {
        "colab": {
          "base_uri": "https://localhost:8080/"
        },
        "id": "Dj6Pc_XiemaC",
        "outputId": "810de584-eec2-4e4d-adb4-6acb7847d861"
      },
      "execution_count": 4,
      "outputs": [
        {
          "output_type": "stream",
          "name": "stdout",
          "text": [
            "1\n",
            "2\n",
            "3\n"
          ]
        }
      ]
    },
    {
      "cell_type": "code",
      "source": [
        "def create():\n",
        "\n",
        "  data = int(input(\"Enter Your data : -1 to end tree\"))\n",
        "\n",
        "  if data == -1:\n",
        "    return None\n",
        "\n",
        "  ## make a Node\n",
        "  root = TreeNode(data)\n",
        "\n",
        "  print(f\"enter data for left node of  {data}\")\n",
        "  root.left = create()\n",
        "  print(f\"enter data for right node of  {data}\")\n",
        "  root.right = create()\n",
        "  return root\n",
        "\n",
        "def level_order_transversal(root):\n",
        "\n",
        "  queue = []\n",
        "  queue.append(root)\n",
        "  queue.append('end')\n",
        "\n",
        "  while (len(queue) != 0):\n",
        "\n",
        "    temp = queue.pop(0)\n",
        "\n",
        "    if temp == 'end':\n",
        "      print()\n",
        "      if len(queue)  > 1:\n",
        "        queue.append('end')\n",
        "\n",
        "    elif temp == None:\n",
        "      print(None , end = ' ')\n",
        "\n",
        "    else:\n",
        "      print(temp.data , end = ' ')\n",
        "      queue.append(temp.left) ### will print None at place of None\n",
        "      queue.append(temp.right)\n",
        "\n",
        "\n"
      ],
      "metadata": {
        "id": "4pyMRqLrerW9"
      },
      "execution_count": 25,
      "outputs": []
    },
    {
      "cell_type": "code",
      "source": [
        "root = create()\n"
      ],
      "metadata": {
        "colab": {
          "base_uri": "https://localhost:8080/"
        },
        "id": "RyeVGuN1e6-0",
        "outputId": "4e7b60b1-4367-4324-babf-5a6a6dbb0baa"
      },
      "execution_count": 26,
      "outputs": [
        {
          "name": "stdout",
          "output_type": "stream",
          "text": [
            "Enter Your data : -1 to end tree1\n",
            "enter data for left node of  1\n",
            "Enter Your data : -1 to end tree2\n",
            "enter data for left node of  2\n",
            "Enter Your data : -1 to end tree-1\n",
            "enter data for right node of  2\n",
            "Enter Your data : -1 to end tree-1\n",
            "enter data for right node of  1\n",
            "Enter Your data : -1 to end tree3\n",
            "enter data for left node of  3\n",
            "Enter Your data : -1 to end tree-1\n",
            "enter data for right node of  3\n",
            "Enter Your data : -1 to end tree-1\n"
          ]
        }
      ]
    },
    {
      "cell_type": "code",
      "source": [
        "level_order_transversal(root)"
      ],
      "metadata": {
        "colab": {
          "base_uri": "https://localhost:8080/"
        },
        "id": "caxLyf1jfQvo",
        "outputId": "9577b734-d43c-4dda-a21e-60f487d206c7"
      },
      "execution_count": 27,
      "outputs": [
        {
          "output_type": "stream",
          "name": "stdout",
          "text": [
            "1 \n",
            "2 3 \n",
            "None None None None \n"
          ]
        }
      ]
    },
    {
      "cell_type": "code",
      "source": [
        "print(None)"
      ],
      "metadata": {
        "colab": {
          "base_uri": "https://localhost:8080/"
        },
        "id": "MF2X-ic5fRox",
        "outputId": "d24438b9-5736-4952-f4d2-550e3dc08705"
      },
      "execution_count": 11,
      "outputs": [
        {
          "output_type": "stream",
          "name": "stdout",
          "text": [
            "None\n"
          ]
        }
      ]
    },
    {
      "cell_type": "code",
      "source": [],
      "metadata": {
        "id": "_hJkXHPpiEy8"
      },
      "execution_count": null,
      "outputs": []
    }
  ]
}