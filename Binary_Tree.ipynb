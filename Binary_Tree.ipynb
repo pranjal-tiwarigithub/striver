{
  "nbformat": 4,
  "nbformat_minor": 0,
  "metadata": {
    "colab": {
      "provenance": [],
      "authorship_tag": "ABX9TyP8HrM8/35Ss2P3W+9+YLgJ",
      "include_colab_link": true
    },
    "kernelspec": {
      "name": "python3",
      "display_name": "Python 3"
    },
    "language_info": {
      "name": "python"
    }
  },
  "cells": [
    {
      "cell_type": "markdown",
      "metadata": {
        "id": "view-in-github",
        "colab_type": "text"
      },
      "source": [
        "<a href=\"https://colab.research.google.com/github/pranjal-tiwarigithub/striver/blob/main/Binary_Tree.ipynb\" target=\"_parent\"><img src=\"https://colab.research.google.com/assets/colab-badge.svg\" alt=\"Open In Colab\"/></a>"
      ]
    },
    {
      "cell_type": "code",
      "execution_count": 1,
      "metadata": {
        "id": "ld4xOrNemdAv"
      },
      "outputs": [],
      "source": [
        "class TreeNode:\n",
        "\n",
        "  def __init__(self , data):\n",
        "    self.data = data\n",
        "    self.left = None\n",
        "    self.right = None\n"
      ]
    },
    {
      "cell_type": "code",
      "source": [
        "def create(root):\n",
        "\n",
        "  data = int(input(\"Enter Your data : -1 to end tree\"))\n",
        "\n",
        "  if data == -1:\n",
        "    return None\n",
        "\n",
        "  ## make a Node\n",
        "  root = TreeNode(data)\n",
        "\n",
        "  print(f\"enter data for left node of  {data}\")\n",
        "  root.left = create(root.left)\n",
        "  print(f\"enter data for right node of  {data}\")\n",
        "  root.right = create(root.right)\n",
        "  return root\n"
      ],
      "metadata": {
        "id": "qK9oKvdqToav"
      },
      "execution_count": 2,
      "outputs": []
    },
    {
      "cell_type": "code",
      "source": [
        "root = None\n",
        "root = create(root)"
      ],
      "metadata": {
        "colab": {
          "base_uri": "https://localhost:8080/"
        },
        "id": "my9ZwxsIV9PF",
        "outputId": "ccf9c8c5-8370-4547-ac95-59a2dbcf1f8e"
      },
      "execution_count": 3,
      "outputs": [
        {
          "name": "stdout",
          "output_type": "stream",
          "text": [
            "Enter Your data : -1 to end tree1\n",
            "enter data for left node of  1\n",
            "Enter Your data : -1 to end tree2\n",
            "enter data for left node of  2\n",
            "Enter Your data : -1 to end tree-1\n",
            "enter data for right node of  2\n",
            "Enter Your data : -1 to end tree-1\n",
            "enter data for right node of  1\n",
            "Enter Your data : -1 to end tree3\n",
            "enter data for left node of  3\n",
            "Enter Your data : -1 to end tree-1\n",
            "enter data for right node of  3\n",
            "Enter Your data : -1 to end tree-1\n"
          ]
        }
      ]
    }
  ]
}