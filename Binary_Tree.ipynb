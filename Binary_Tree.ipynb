{
  "nbformat": 4,
  "nbformat_minor": 0,
  "metadata": {
    "colab": {
      "provenance": [],
      "authorship_tag": "ABX9TyPEy3QhQgyohL/KvE0RCIwT",
      "include_colab_link": true
    },
    "kernelspec": {
      "name": "python3",
      "display_name": "Python 3"
    },
    "language_info": {
      "name": "python"
    }
  },
  "cells": [
    {
      "cell_type": "markdown",
      "metadata": {
        "id": "view-in-github",
        "colab_type": "text"
      },
      "source": [
        "<a href=\"https://colab.research.google.com/github/pranjal-tiwarigithub/striver/blob/main/Binary_Tree.ipynb\" target=\"_parent\"><img src=\"https://colab.research.google.com/assets/colab-badge.svg\" alt=\"Open In Colab\"/></a>"
      ]
    },
    {
      "cell_type": "code",
      "execution_count": 1,
      "metadata": {
        "id": "ld4xOrNemdAv"
      },
      "outputs": [],
      "source": [
        "class TreeNode:\n",
        "\n",
        "  def __init__(self , data):\n",
        "    self.data = data\n",
        "    self.left = None\n",
        "    self.right = None\n"
      ]
    },
    {
      "cell_type": "code",
      "source": [
        "def create(root):\n",
        "\n",
        "  data = int(input(\"Enter Your data : -1 to end tree\"))\n",
        "\n",
        "  if data == -1:\n",
        "    return None\n",
        "\n",
        "  ## make a Node\n",
        "  root = TreeNode(data)\n",
        "\n",
        "  print(f\"enter data for left node of  {data}\")\n",
        "  root.left = create(root.left)\n",
        "  print(f\"enter data for right node of  {data}\")\n",
        "  root.right = create(root.right)\n",
        "  return root\n"
      ],
      "metadata": {
        "id": "qK9oKvdqToav"
      },
      "execution_count": null,
      "outputs": []
    }
  ]
}