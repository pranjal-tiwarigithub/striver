{
  "nbformat": 4,
  "nbformat_minor": 0,
  "metadata": {
    "colab": {
      "provenance": [],
      "authorship_tag": "ABX9TyMcttkWMN1cp8Pbludy+oyc",
      "include_colab_link": true
    },
    "kernelspec": {
      "name": "python3",
      "display_name": "Python 3"
    },
    "language_info": {
      "name": "python"
    }
  },
  "cells": [
    {
      "cell_type": "markdown",
      "metadata": {
        "id": "view-in-github",
        "colab_type": "text"
      },
      "source": [
        "<a href=\"https://colab.research.google.com/github/pranjal-tiwarigithub/striver/blob/main/Recursion_3.ipynb\" target=\"_parent\"><img src=\"https://colab.research.google.com/assets/colab-badge.svg\" alt=\"Open In Colab\"/></a>"
      ]
    },
    {
      "cell_type": "code",
      "execution_count": 1,
      "metadata": {
        "id": "eJ5LpL-I3eb1"
      },
      "outputs": [],
      "source": [
        "def fibonacci(n):\n",
        "\n",
        "  if n == 0:\n",
        "    return 0\n",
        "  elif n == 1:\n",
        "    return 1 \n",
        "  \n",
        "  return fibonacci(n-1) + fibonacci(n-2)"
      ]
    },
    {
      "cell_type": "code",
      "source": [
        "fibonacci(6)"
      ],
      "metadata": {
        "colab": {
          "base_uri": "https://localhost:8080/"
        },
        "id": "jafB-8uxnoGm",
        "outputId": "9a218aa2-06a5-42ad-e879-e473479c4399"
      },
      "execution_count": 3,
      "outputs": [
        {
          "output_type": "execute_result",
          "data": {
            "text/plain": [
              "8"
            ]
          },
          "metadata": {},
          "execution_count": 3
        }
      ]
    },
    {
      "cell_type": "code",
      "source": [
        "def print_all_substring(i , answer , arr , n ):\n",
        "\n",
        "  if i == n:\n",
        "\n",
        "    if len(answer) == 0:\n",
        "      print('[]')\n",
        "    else:\n",
        "      print(answer)\n",
        "    \n",
        "    return \n",
        "  \n",
        "  answer.append(arr[i])\n",
        "  print_all_substring(i+1,answer,arr,n)\n",
        "  answer.remove(arr[i])\n",
        "  print_all_substring(i+1,answer,arr,n)"
      ],
      "metadata": {
        "id": "CEZXG3FAnptv"
      },
      "execution_count": 6,
      "outputs": []
    },
    {
      "cell_type": "code",
      "source": [
        "myarr = [1,2]\n",
        "answer = []\n",
        "print_all_substring(0,answer,myarr,len(myarr))"
      ],
      "metadata": {
        "colab": {
          "base_uri": "https://localhost:8080/"
        },
        "id": "rJ25DuUvetzy",
        "outputId": "ac21efc0-b88a-4069-be21-69855e462279"
      },
      "execution_count": 7,
      "outputs": [
        {
          "output_type": "stream",
          "name": "stdout",
          "text": [
            "[1, 2]\n",
            "[1]\n",
            "[2]\n",
            "[]\n"
          ]
        }
      ]
    },
    {
      "cell_type": "code",
      "source": [
        "def print_all_substring2(i , answer , arr , n):\n",
        "\n",
        "  if i == n:\n",
        "    if len(answer) == 0:\n",
        "      print('[]')\n",
        "    else:\n",
        "      print(answer)\n",
        "  \n",
        "    return \n",
        "\n",
        "  print_all_substring2(i+1, answer , arr ,n )\n",
        "  answer.append(arr[i])\n",
        "  print_all_substring2(i+1, answer , arr ,n )\n",
        "  answer.remove(arr[i])\n"
      ],
      "metadata": {
        "id": "5k3eqRA_juE7"
      },
      "execution_count": 8,
      "outputs": []
    },
    {
      "cell_type": "code",
      "source": [
        "myarr = [1,2]\n",
        "answer = []\n",
        "print_all_substring2(0,answer,myarr,len(myarr))"
      ],
      "metadata": {
        "colab": {
          "base_uri": "https://localhost:8080/"
        },
        "id": "2gXRNi4nkoYi",
        "outputId": "506ce51e-94c6-4d2f-8409-9a8e93dc6cb3"
      },
      "execution_count": 10,
      "outputs": [
        {
          "output_type": "stream",
          "name": "stdout",
          "text": [
            "[]\n",
            "[2]\n",
            "[1]\n",
            "[1, 2]\n"
          ]
        }
      ]
    },
    {
      "cell_type": "code",
      "source": [
        "myarr = [1,2,3]\n",
        "answer = []\n",
        "print_all_substring2(0,answer,myarr,len(myarr))"
      ],
      "metadata": {
        "colab": {
          "base_uri": "https://localhost:8080/"
        },
        "id": "jwRkR8GAkpvI",
        "outputId": "9a064bd2-e34c-4536-a0fa-df0652206c39"
      },
      "execution_count": 11,
      "outputs": [
        {
          "output_type": "stream",
          "name": "stdout",
          "text": [
            "[]\n",
            "[3]\n",
            "[2]\n",
            "[2, 3]\n",
            "[1]\n",
            "[1, 3]\n",
            "[1, 2]\n",
            "[1, 2, 3]\n"
          ]
        }
      ]
    },
    {
      "cell_type": "code",
      "source": [],
      "metadata": {
        "id": "zb2eXSwCkvE8"
      },
      "execution_count": null,
      "outputs": []
    }
  ]
}