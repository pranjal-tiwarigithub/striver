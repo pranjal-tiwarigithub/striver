{
  "nbformat": 4,
  "nbformat_minor": 0,
  "metadata": {
    "colab": {
      "provenance": [],
      "authorship_tag": "ABX9TyM0A/+i/etswm5oRy9hfET6",
      "include_colab_link": true
    },
    "kernelspec": {
      "name": "python3",
      "display_name": "Python 3"
    },
    "language_info": {
      "name": "python"
    }
  },
  "cells": [
    {
      "cell_type": "markdown",
      "metadata": {
        "id": "view-in-github",
        "colab_type": "text"
      },
      "source": [
        "<a href=\"https://colab.research.google.com/github/pranjal-tiwarigithub/striver/blob/main/Recursion_3.ipynb\" target=\"_parent\"><img src=\"https://colab.research.google.com/assets/colab-badge.svg\" alt=\"Open In Colab\"/></a>"
      ]
    },
    {
      "cell_type": "code",
      "execution_count": null,
      "metadata": {
        "id": "eJ5LpL-I3eb1"
      },
      "outputs": [],
      "source": [
        "def fibonacci(n):\n",
        "\n",
        "  if n == 0:\n",
        "    return 0\n",
        "  elif n == 1:\n",
        "    return 1 \n",
        "  \n",
        "  return fibonacci(n-1) + fibonacci(n-2)"
      ]
    },
    {
      "cell_type": "code",
      "source": [
        "fibonacci(6)"
      ],
      "metadata": {
        "colab": {
          "base_uri": "https://localhost:8080/"
        },
        "id": "jafB-8uxnoGm",
        "outputId": "9a218aa2-06a5-42ad-e879-e473479c4399"
      },
      "execution_count": null,
      "outputs": [
        {
          "output_type": "execute_result",
          "data": {
            "text/plain": [
              "8"
            ]
          },
          "metadata": {},
          "execution_count": 3
        }
      ]
    },
    {
      "cell_type": "code",
      "source": [
        "def print_all_substring(i , answer , arr , n ):\n",
        "\n",
        "  if i == n:\n",
        "\n",
        "    if len(answer) == 0:\n",
        "      print('[]')\n",
        "    else:\n",
        "      print(answer)\n",
        "    \n",
        "    return \n",
        "  \n",
        "  answer.append(arr[i])\n",
        "  print_all_substring(i+1,answer,arr,n)\n",
        "  answer.remove(arr[i])\n",
        "  print_all_substring(i+1,answer,arr,n)"
      ],
      "metadata": {
        "id": "CEZXG3FAnptv"
      },
      "execution_count": null,
      "outputs": []
    },
    {
      "cell_type": "code",
      "source": [
        "myarr = [1,2]\n",
        "answer = []\n",
        "print_all_substring(0,answer,myarr,len(myarr))"
      ],
      "metadata": {
        "colab": {
          "base_uri": "https://localhost:8080/"
        },
        "id": "rJ25DuUvetzy",
        "outputId": "ac21efc0-b88a-4069-be21-69855e462279"
      },
      "execution_count": null,
      "outputs": [
        {
          "output_type": "stream",
          "name": "stdout",
          "text": [
            "[1, 2]\n",
            "[1]\n",
            "[2]\n",
            "[]\n"
          ]
        }
      ]
    },
    {
      "cell_type": "code",
      "source": [
        "def print_all_substring2(i , answer , arr , n):\n",
        "\n",
        "  if i == n:\n",
        "    if len(answer) == 0:\n",
        "      print('[]')\n",
        "    else:\n",
        "      print(answer)\n",
        "  \n",
        "    return \n",
        "\n",
        "  print_all_substring2(i+1, answer , arr ,n )\n",
        "  answer.append(arr[i])\n",
        "  print_all_substring2(i+1, answer , arr ,n )\n",
        "  answer.remove(arr[i])\n"
      ],
      "metadata": {
        "id": "5k3eqRA_juE7"
      },
      "execution_count": null,
      "outputs": []
    },
    {
      "cell_type": "code",
      "source": [
        "myarr = [1,2]\n",
        "answer = []\n",
        "print_all_substring2(0,answer,myarr,len(myarr))"
      ],
      "metadata": {
        "colab": {
          "base_uri": "https://localhost:8080/"
        },
        "id": "2gXRNi4nkoYi",
        "outputId": "506ce51e-94c6-4d2f-8409-9a8e93dc6cb3"
      },
      "execution_count": null,
      "outputs": [
        {
          "output_type": "stream",
          "name": "stdout",
          "text": [
            "[]\n",
            "[2]\n",
            "[1]\n",
            "[1, 2]\n"
          ]
        }
      ]
    },
    {
      "cell_type": "code",
      "source": [
        "myarr = [1,2,3]\n",
        "answer = []\n",
        "print_all_substring2(0,answer,myarr,len(myarr))"
      ],
      "metadata": {
        "colab": {
          "base_uri": "https://localhost:8080/"
        },
        "id": "jwRkR8GAkpvI",
        "outputId": "9a064bd2-e34c-4536-a0fa-df0652206c39"
      },
      "execution_count": null,
      "outputs": [
        {
          "output_type": "stream",
          "name": "stdout",
          "text": [
            "[]\n",
            "[3]\n",
            "[2]\n",
            "[2, 3]\n",
            "[1]\n",
            "[1, 3]\n",
            "[1, 2]\n",
            "[1, 2, 3]\n"
          ]
        }
      ]
    },
    {
      "cell_type": "code",
      "source": [
        "### subset with given sum "
      ],
      "metadata": {
        "id": "zb2eXSwCkvE8"
      },
      "execution_count": null,
      "outputs": []
    },
    {
      "cell_type": "code",
      "source": [
        "def subset_sum(i , answer , arr , n ,  sum , required_val):\n",
        "\n",
        "  if sum == required_val:\n",
        "    print(answer)\n",
        "  if i == n:\n",
        "    return \n",
        "\n",
        "  answer.append(arr[i])\n",
        "  subset_sum(i +1 , answer , arr , n ,  sum + arr[i] , required_val)\n",
        "  answer.remove(arr[i])\n",
        "  subset_sum(i + 1 , answer , arr , n ,  sum , required_val)"
      ],
      "metadata": {
        "id": "4gB_ZP2qu-3k"
      },
      "execution_count": null,
      "outputs": []
    },
    {
      "cell_type": "code",
      "source": [
        "myarr = [1,2,3]\n",
        "answer = []\n",
        "\n",
        "subset_sum(0 , answer , myarr , len(myarr) ,  0 , 0)"
      ],
      "metadata": {
        "colab": {
          "base_uri": "https://localhost:8080/"
        },
        "id": "QliteIXYxDHX",
        "outputId": "5233741c-2024-458b-c826-f1a3c211e3b2"
      },
      "execution_count": null,
      "outputs": [
        {
          "output_type": "stream",
          "name": "stdout",
          "text": [
            "[]\n",
            "[]\n",
            "[]\n",
            "[]\n"
          ]
        }
      ]
    },
    {
      "cell_type": "code",
      "source": [
        "def subset_sum(i , answer , arr , n ,  sum , required_val):\n",
        "\n",
        "  if i == n:\n",
        "    if sum == required_val:\n",
        "      print(answer)\n",
        "    return \n",
        "\n",
        "  answer.append(arr[i])\n",
        "  #sum = sum + arr[i]\n",
        "  #print(id(sum))\n",
        "  subset_sum(i +1 , answer , arr , n , sum + arr[i]  , required_val)  ### not changing the value of sum variable inside function else do the other method \n",
        "  answer.remove(arr[i])\n",
        "  #sum = sum - arr[i]\n",
        "  #print(id(sum))\n",
        "  subset_sum(i + 1 , answer , arr , n , sum , required_val)"
      ],
      "metadata": {
        "id": "CdHOyKyFxphz"
      },
      "execution_count": null,
      "outputs": []
    },
    {
      "cell_type": "code",
      "source": [
        "myarr = [1,2,3]\n",
        "answer = []\n",
        "\n",
        "subset_sum(0 , answer , myarr , len(myarr) ,  0 , 3)"
      ],
      "metadata": {
        "colab": {
          "base_uri": "https://localhost:8080/"
        },
        "id": "TgEjr0LDx1P6",
        "outputId": "0bf2b478-ec33-4f64-d2e5-9b2162f06a8d"
      },
      "execution_count": null,
      "outputs": [
        {
          "output_type": "stream",
          "name": "stdout",
          "text": [
            "[1, 2]\n",
            "[3]\n"
          ]
        }
      ]
    },
    {
      "cell_type": "markdown",
      "source": [
        "to print only once make the fuction boolean \n",
        "moment we print our first answer we must retuen true else retrurn false\n",
        "\n",
        "put  recursion call under if , if fuction return true not need for ant more recursive calls"
      ],
      "metadata": {
        "id": "IQnQ4z0EnfnF"
      }
    },
    {
      "cell_type": "code",
      "source": [
        "def subset_sum_once(i , answer , arr , n , sum , required_sum):\n",
        "\n",
        "  if i == n:\n",
        "    if sum == required_sum:\n",
        "      print(answer)\n",
        "      return True \n",
        "\n",
        "    return False \n",
        "\n",
        "  answer.append(arr[i])\n",
        "\n",
        "  if (subset_sum_once(i+ 1 , answer , arr , n , sum + arr[i] , required_sum) == True):\n",
        "      return True \n",
        "  \n",
        "  answer.remove(arr[i])\n",
        "\n",
        "  if (subset_sum_once(i+ 1 , answer , arr , n , sum , required_sum) == True):\n",
        "    return True \n",
        "  \n",
        "  return False "
      ],
      "metadata": {
        "id": "YaZLl5wXkyxF"
      },
      "execution_count": 4,
      "outputs": []
    },
    {
      "cell_type": "code",
      "source": [
        "myarr = [1,2,3]\n",
        "answer = []\n",
        "subset_sum_once(0 , answer , myarr , len(myarr) ,  0 , 3)"
      ],
      "metadata": {
        "colab": {
          "base_uri": "https://localhost:8080/"
        },
        "id": "XEtKZ6EinaL5",
        "outputId": "a9cb64ae-546c-4ebd-e262-024cbecf6784"
      },
      "execution_count": 7,
      "outputs": [
        {
          "output_type": "stream",
          "name": "stdout",
          "text": [
            "[1, 2]\n"
          ]
        },
        {
          "output_type": "execute_result",
          "data": {
            "text/plain": [
              "True"
            ]
          },
          "metadata": {},
          "execution_count": 7
        }
      ]
    },
    {
      "cell_type": "markdown",
      "source": [
        "### count of subsequences "
      ],
      "metadata": {
        "id": "91AF7Bd_q7Hp"
      }
    },
    {
      "cell_type": "code",
      "source": [
        "### failed attempt \n",
        "\n",
        "def count_sub (i , answer , arr , n , sum , required , count ):\n",
        "\n",
        "  if i == n:\n",
        "    if sum == required:\n",
        "      count = count + 1  \n",
        "\n",
        "    \n",
        "\n",
        "  answer.append(arr[i])\n",
        "  count_sub (i +1  , answer , arr , n , sum + arr[i] , required , count  )\n",
        "  answer.remove(arr[i])\n",
        "  count_sub (i +1  , answer , arr , n , sum, required , count )\n",
        "\n",
        "  "
      ],
      "metadata": {
        "id": "Yi535zjvq5-n"
      },
      "execution_count": 27,
      "outputs": []
    },
    {
      "cell_type": "code",
      "source": [
        "myarr = [1,2,3]\n",
        "answer = []\n",
        "count_sub (0 , answer , myarr , len(myarr) ,  0 , 3 , 0)"
      ],
      "metadata": {
        "colab": {
          "base_uri": "https://localhost:8080/"
        },
        "id": "_3BWJ1HwnamH",
        "outputId": "41e70adf-1ddd-4edb-9dec-c66e26353ac4"
      },
      "execution_count": 26,
      "outputs": [
        {
          "output_type": "stream",
          "name": "stdout",
          "text": [
            "0\n",
            "0\n",
            "0\n",
            "0\n",
            "0\n",
            "0\n",
            "0\n"
          ]
        }
      ]
    },
    {
      "cell_type": "code",
      "source": [
        "### no need to store answer in this cae , just counts of it\n",
        "\n",
        "def count_sub(i,arr,n,sum,required):\n",
        "\n",
        "  if i == n:\n",
        "    if sum == required:\n",
        "      return 1 \n",
        "    return 0 \n",
        "\n",
        "  L = count_sub(i+1 , arr , n , sum + arr[i] , required)\n",
        "  R = count_sub(i+1 , arr , n , sum  , required)\n",
        "\n",
        "  return L + R \n"
      ],
      "metadata": {
        "id": "Drp01JXqBkNh"
      },
      "execution_count": 1,
      "outputs": []
    },
    {
      "cell_type": "code",
      "source": [
        "myarr = [1,2,3]\n",
        "count_sub (0, myarr , len(myarr) ,  0 , 3 )"
      ],
      "metadata": {
        "colab": {
          "base_uri": "https://localhost:8080/"
        },
        "id": "kMZs7GWmGIBT",
        "outputId": "1d15f7c8-c26d-426d-daaa-a5627b6edc25"
      },
      "execution_count": 2,
      "outputs": [
        {
          "output_type": "execute_result",
          "data": {
            "text/plain": [
              "2"
            ]
          },
          "metadata": {},
          "execution_count": 2
        }
      ]
    }
  ]
}